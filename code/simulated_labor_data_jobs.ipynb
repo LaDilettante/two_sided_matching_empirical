{
 "cells": [
  {
   "cell_type": "code",
   "execution_count": 1,
   "metadata": {},
   "outputs": [],
   "source": [
    "import numpy as np\n",
    "import abm2\n",
    "%load_ext autoreload\n",
    "%autoreload 2\n",
    "\n",
    "rng = np.random.RandomState(40)"
   ]
  },
  {
   "cell_type": "code",
   "execution_count": 2,
   "metadata": {},
   "outputs": [],
   "source": [
    "num_employees = 500\n",
    "employee_list = [abm2.Employee(x=np.array([1.0, 12.0 + 3.0 * rng.normal(), \n",
    "                                           40.0 + 10.0 * rng.normal()]),\n",
    "                               alpha=np.array([0.05]))\n",
    "                 for i in range(num_employees)]\n",
    "er0 = abm2.Employer(offer=lambda x, y: np.array([12.0]),\n",
    "                    w=np.array([12.0]), beta=np.array([0.0, 0.0, 0.0])) # Unemployment\n",
    "er1 = abm2.Employer(offer=lambda x, y: x.w + 1.2 * y.x[1],\n",
    "                    w=np.array([42.0]), beta=np.array([-9.0, 0.2, 0.2]))\n",
    "er2 = abm2.Employer(offer=lambda x, y: x.w + 1.4 * y.x[1],\n",
    "                    w=np.array([23.0]), beta=np.array([-10.0, 0.1, 0.2]))\n",
    "er3 = abm2.Employer(offer=lambda x, y: x.w + 0.2 * y.x[1],\n",
    "                    w=np.array([32.0]), beta=np.array([-5.0, 0.5, -0.05]))\n",
    "er4 = abm2.Employer(offer=lambda x, y: x.w + 0.5 * y.x[1],\n",
    "                    w=np.array([32.0]), beta=np.array([-6.0, 0.5, -0.02]))\n",
    "employer_list = [er0, er1, er2, er3, er4]"
   ]
  },
  {
   "cell_type": "code",
   "execution_count": 3,
   "metadata": {},
   "outputs": [],
   "source": [
    "my_model = abm2.Model(employer_list, employee_list)\n",
    "alpha, beta, ww, xx, jobs, job_utilities, choice, true_opp, obs_opp = my_model.matching_process()"
   ]
  },
  {
   "cell_type": "code",
   "execution_count": 4,
   "metadata": {},
   "outputs": [],
   "source": [
    "np.save(\"ww.npy\", ww)\n",
    "np.save(\"xx.npy\", xx)\n",
    "np.save(\"jobs.npy\", np.squeeze(jobs))\n",
    "np.save(\"obs_opp.npy\", obs_opp)\n",
    "np.save(\"true_opp.npy\", true_opp)\n",
    "np.save(\"choice.npy\", choice)\n",
    "np.save(\"job_utilities.npy\", job_utilities)"
   ]
  },
  {
   "cell_type": "code",
   "execution_count": 5,
   "metadata": {},
   "outputs": [
    {
     "data": {
      "text/plain": [
       "array([[ 1.,  1.,  0.,  0.,  0.],\n",
       "       [ 1.,  1.,  1.,  0.,  0.],\n",
       "       [ 1.,  0.,  0.,  0.,  0.],\n",
       "       ..., \n",
       "       [ 1.,  0.,  0.,  0.,  0.],\n",
       "       [ 1.,  1.,  1.,  1.,  1.],\n",
       "       [ 1.,  1.,  0.,  1.,  1.]])"
      ]
     },
     "execution_count": 5,
     "metadata": {},
     "output_type": "execute_result"
    }
   ],
   "source": [
    "true_opp"
   ]
  },
  {
   "cell_type": "code",
   "execution_count": 6,
   "metadata": {},
   "outputs": [
    {
     "data": {
      "text/plain": [
       "array([[ 1.,  1.,  0.,  0.,  0.],\n",
       "       [ 1.,  1.,  0.,  0.,  0.],\n",
       "       [ 1.,  0.,  0.,  0.,  0.],\n",
       "       ..., \n",
       "       [ 1.,  0.,  0.,  0.,  0.],\n",
       "       [ 1.,  0.,  0.,  0.,  1.],\n",
       "       [ 1.,  0.,  0.,  0.,  1.]])"
      ]
     },
     "execution_count": 6,
     "metadata": {},
     "output_type": "execute_result"
    }
   ],
   "source": [
    "obs_opp"
   ]
  },
  {
   "cell_type": "markdown",
   "metadata": {},
   "source": [
    "#### np.squeeze(jobs)"
   ]
  }
 ],
 "metadata": {
  "kernelspec": {
   "display_name": "Python 3",
   "language": "python",
   "name": "python3"
  },
  "language_info": {
   "codemirror_mode": {
    "name": "ipython",
    "version": 3
   },
   "file_extension": ".py",
   "mimetype": "text/x-python",
   "name": "python",
   "nbconvert_exporter": "python",
   "pygments_lexer": "ipython3",
   "version": "3.6.3"
  }
 },
 "nbformat": 4,
 "nbformat_minor": 2
}
