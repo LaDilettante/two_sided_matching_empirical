{
 "cells": [
  {
   "cell_type": "code",
   "execution_count": 804,
   "metadata": {},
   "outputs": [
    {
     "name": "stdout",
     "output_type": "stream",
     "text": [
      "The autoreload extension is already loaded. To reload it, use:\n",
      "  %reload_ext autoreload\n"
     ]
    }
   ],
   "source": [
    "import numpy as np\n",
    "import pandas as pd\n",
    "from itertools import compress\n",
    "import matplotlib.pyplot as plt\n",
    "%matplotlib inline\n",
    "import rpy2.robjects as ro\n",
    "from rpy2.robjects import numpy2ri\n",
    "numpy2ri.activate()\n",
    "from rpy2.robjects.packages import importr\n",
    "from rpy2.robjects.packages import SignatureTranslatedAnonymousPackage\n",
    "import abm\n",
    "%load_ext autoreload\n",
    "%autoreload 2"
   ]
  },
  {
   "cell_type": "code",
   "execution_count": 805,
   "metadata": {},
   "outputs": [
    {
     "data": {
      "text/html": [
       "<div>\n",
       "<style scoped>\n",
       "    .dataframe tbody tr th:only-of-type {\n",
       "        vertical-align: middle;\n",
       "    }\n",
       "\n",
       "    .dataframe tbody tr th {\n",
       "        vertical-align: top;\n",
       "    }\n",
       "\n",
       "    .dataframe thead th {\n",
       "        text-align: right;\n",
       "    }\n",
       "</style>\n",
       "<table border=\"1\" class=\"dataframe\">\n",
       "  <thead>\n",
       "    <tr style=\"text-align: right;\">\n",
       "      <th></th>\n",
       "      <th>educ</th>\n",
       "      <th>age</th>\n",
       "      <th>nonwhite</th>\n",
       "      <th>occ17</th>\n",
       "      <th>presmean</th>\n",
       "      <th>autmean</th>\n",
       "    </tr>\n",
       "  </thead>\n",
       "  <tbody>\n",
       "    <tr>\n",
       "      <th>0</th>\n",
       "      <td>19</td>\n",
       "      <td>29</td>\n",
       "      <td>0</td>\n",
       "      <td>2</td>\n",
       "      <td>59.3</td>\n",
       "      <td>0.103448</td>\n",
       "    </tr>\n",
       "    <tr>\n",
       "      <th>1</th>\n",
       "      <td>16</td>\n",
       "      <td>29</td>\n",
       "      <td>0</td>\n",
       "      <td>7</td>\n",
       "      <td>35.9</td>\n",
       "      <td>0.083306</td>\n",
       "    </tr>\n",
       "    <tr>\n",
       "      <th>2</th>\n",
       "      <td>18</td>\n",
       "      <td>26</td>\n",
       "      <td>0</td>\n",
       "      <td>3</td>\n",
       "      <td>52.4</td>\n",
       "      <td>0.264063</td>\n",
       "    </tr>\n",
       "    <tr>\n",
       "      <th>3</th>\n",
       "      <td>12</td>\n",
       "      <td>37</td>\n",
       "      <td>0</td>\n",
       "      <td>12</td>\n",
       "      <td>30.1</td>\n",
       "      <td>0.156604</td>\n",
       "    </tr>\n",
       "    <tr>\n",
       "      <th>4</th>\n",
       "      <td>12</td>\n",
       "      <td>30</td>\n",
       "      <td>0</td>\n",
       "      <td>7</td>\n",
       "      <td>35.9</td>\n",
       "      <td>0.083306</td>\n",
       "    </tr>\n",
       "  </tbody>\n",
       "</table>\n",
       "</div>"
      ],
      "text/plain": [
       "   educ  age  nonwhite  occ17  presmean   autmean\n",
       "0    19   29         0      2      59.3  0.103448\n",
       "1    16   29         0      7      35.9  0.083306\n",
       "2    18   26         0      3      52.4  0.264063\n",
       "3    12   37         0     12      30.1  0.156604\n",
       "4    12   30         0      7      35.9  0.083306"
      ]
     },
     "execution_count": 805,
     "metadata": {},
     "output_type": "execute_result"
    }
   ],
   "source": [
    "dat = pd.read_csv('../data_clean/gss18cat.raw', sep='\\s+', header=0)\n",
    "dat.autmean = -dat.autmean\n",
    "dat.head()"
   ]
  },
  {
   "cell_type": "code",
   "execution_count": 806,
   "metadata": {},
   "outputs": [],
   "source": [
    "n_i = dat.shape[0]\n",
    "n_j = len(np.unique(dat.occ17))\n",
    "p_i = 4\n",
    "p_j = 2\n",
    "choice = dat.occ17 + 1\n",
    "\n",
    "# ---- Prepare opp, the opportunity set ----\n",
    "opp = np.zeros(shape=(n_i, n_j), dtype=\"bool\")\n",
    "opp[np.arange(n_i), dat.occ17] = True  # people are offered jobs they have!\n",
    "opp[:, 0] = True                     # Unemployment always offered"
   ]
  },
  {
   "cell_type": "code",
   "execution_count": 807,
   "metadata": {},
   "outputs": [],
   "source": [
    "# ---- Prepare ww ----\n",
    "ww = np.empty((n_j, p_j))\n",
    "for i in range(n_j):\n",
    "    ww[i, 0] = np.unique(dat.presmean[dat.occ17 == i])\n",
    "    ww[i, 1] = np.unique(dat.autmean[dat.occ17 == i])"
   ]
  },
  {
   "cell_type": "code",
   "execution_count": 808,
   "metadata": {},
   "outputs": [],
   "source": [
    "# ---- Prepare xx ----\n",
    "one = np.ones(n_i)\n",
    "xx = dat[[\"educ\", \"age\", \"nonwhite\"]]\n",
    "xx = np.column_stack((one, xx))"
   ]
  },
  {
   "cell_type": "markdown",
   "metadata": {},
   "source": [
    "# Simulate based on real data"
   ]
  },
  {
   "cell_type": "code",
   "execution_count": 809,
   "metadata": {},
   "outputs": [],
   "source": [
    "n_employee = 100\n",
    "n_employer = 4 # Unemployment 1; Professionals, Salaried 3; Craftsmen, Manufacturing 9; Service 14\n",
    "employee_list = [None] * n_employee\n",
    "employer_list = [None] * n_employer"
   ]
  },
  {
   "cell_type": "code",
   "execution_count": 810,
   "metadata": {},
   "outputs": [],
   "source": [
    "my_ww = ww[np.array([0, 2, 8, 13]), :]\n",
    "my_beta = np.array([[0, 0, 0],\n",
    "                    [0.2, 0.15, 1],\n",
    "                    [0.2, 0.1, -1],\n",
    "                    [0.1, 0.3, 1]])\n",
    "my_reserve = np.array([0, 8, 6, 12])\n",
    "for i in range(n_employer):\n",
    "    employer_list[i] = abm.Employer(w=my_ww[i, :], beta=my_beta[i, :], reserve_utility=my_reserve[i])"
   ]
  },
  {
   "cell_type": "code",
   "execution_count": 811,
   "metadata": {},
   "outputs": [],
   "source": [
    "my_xx = xx[np.random.choice(xx.shape[0], size=n_employee, replace=False), :]\n",
    "alpha = np.array([0.07, 1])\n",
    "for i in range(n_employee):\n",
    "    employee_list[i] = abm.Employee(x=my_xx[i, 1:], alpha=alpha)"
   ]
  },
  {
   "cell_type": "code",
   "execution_count": 812,
   "metadata": {},
   "outputs": [
    {
     "data": {
      "text/plain": [
       "array([[ 8.15,  6.7 , 10.6 ],\n",
       "       [ 7.55,  6.1 , 10.3 ],\n",
       "       [ 7.5 ,  6.2 ,  9.6 ],\n",
       "       ...,\n",
       "       [ 8.15,  6.3 , 12.4 ],\n",
       "       [ 7.75,  6.3 , 10.4 ],\n",
       "       [ 7.15,  3.9 ,  9.7 ]])"
      ]
     },
     "execution_count": 812,
     "metadata": {},
     "output_type": "execute_result"
    }
   ],
   "source": [
    "xx[:, 1:].dot(my_beta[1:, :].T)"
   ]
  },
  {
   "cell_type": "code",
   "execution_count": 813,
   "metadata": {},
   "outputs": [],
   "source": [
    "my_model = abm.Model(n_employer=n_employer, n_employee=n_employee)\n",
    "my_alpha, beta, ww, xx, choice, opp, observed_opp = \\\n",
    "    my_model.matching_process(employer_list=employer_list, employee_list=employee_list)"
   ]
  },
  {
   "cell_type": "code",
   "execution_count": 814,
   "metadata": {},
   "outputs": [],
   "source": [
    "np.save(\"ww.npy\", ww)\n",
    "np.save(\"xx.npy\", xx)\n",
    "np.save(\"opp.npy\", observed_opp)\n",
    "np.save(\"choice.npy\", choice)"
   ]
  },
  {
   "cell_type": "code",
   "execution_count": null,
   "metadata": {},
   "outputs": [],
   "source": []
  }
 ],
 "metadata": {
  "kernelspec": {
   "display_name": "Python 3",
   "language": "python",
   "name": "python3"
  },
  "language_info": {
   "codemirror_mode": {
    "name": "ipython",
    "version": 3
   },
   "file_extension": ".py",
   "mimetype": "text/x-python",
   "name": "python",
   "nbconvert_exporter": "python",
   "pygments_lexer": "ipython3",
   "version": "3.6.3"
  }
 },
 "nbformat": 4,
 "nbformat_minor": 2
}
