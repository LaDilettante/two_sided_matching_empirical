{
 "cells": [
  {
   "cell_type": "code",
   "execution_count": 1,
   "metadata": {},
   "outputs": [],
   "source": [
    "import numpy as np\n",
    "import pandas as pd\n",
    "from itertools import compress\n",
    "import matplotlib.pyplot as plt\n",
    "%matplotlib inline\n",
    "import rpy2.robjects as ro\n",
    "from rpy2.robjects import numpy2ri\n",
    "\n",
    "numpy2ri.activate()\n",
    "from rpy2.robjects.packages import importr\n",
    "from rpy2.robjects.packages import SignatureTranslatedAnonymousPackage\n",
    "import abm\n",
    "%load_ext autoreload\n",
    "%autoreload 2"
   ]
  },
  {
   "cell_type": "code",
   "execution_count": 2,
   "metadata": {},
   "outputs": [
    {
     "data": {
      "text/html": [
       "<div>\n",
       "<style scoped>\n",
       "    .dataframe tbody tr th:only-of-type {\n",
       "        vertical-align: middle;\n",
       "    }\n",
       "\n",
       "    .dataframe tbody tr th {\n",
       "        vertical-align: top;\n",
       "    }\n",
       "\n",
       "    .dataframe thead th {\n",
       "        text-align: right;\n",
       "    }\n",
       "</style>\n",
       "<table border=\"1\" class=\"dataframe\">\n",
       "  <thead>\n",
       "    <tr style=\"text-align: right;\">\n",
       "      <th></th>\n",
       "      <th>educ</th>\n",
       "      <th>age</th>\n",
       "      <th>nonwhite</th>\n",
       "      <th>occ17</th>\n",
       "      <th>presmean</th>\n",
       "      <th>autmean</th>\n",
       "    </tr>\n",
       "  </thead>\n",
       "  <tbody>\n",
       "    <tr>\n",
       "      <th>0</th>\n",
       "      <td>19</td>\n",
       "      <td>29</td>\n",
       "      <td>0</td>\n",
       "      <td>2</td>\n",
       "      <td>59.3</td>\n",
       "      <td>0.103448</td>\n",
       "    </tr>\n",
       "    <tr>\n",
       "      <th>1</th>\n",
       "      <td>16</td>\n",
       "      <td>29</td>\n",
       "      <td>0</td>\n",
       "      <td>7</td>\n",
       "      <td>35.9</td>\n",
       "      <td>0.083306</td>\n",
       "    </tr>\n",
       "    <tr>\n",
       "      <th>2</th>\n",
       "      <td>18</td>\n",
       "      <td>26</td>\n",
       "      <td>0</td>\n",
       "      <td>3</td>\n",
       "      <td>52.4</td>\n",
       "      <td>0.264063</td>\n",
       "    </tr>\n",
       "    <tr>\n",
       "      <th>3</th>\n",
       "      <td>12</td>\n",
       "      <td>37</td>\n",
       "      <td>0</td>\n",
       "      <td>12</td>\n",
       "      <td>30.1</td>\n",
       "      <td>0.156604</td>\n",
       "    </tr>\n",
       "    <tr>\n",
       "      <th>4</th>\n",
       "      <td>12</td>\n",
       "      <td>30</td>\n",
       "      <td>0</td>\n",
       "      <td>7</td>\n",
       "      <td>35.9</td>\n",
       "      <td>0.083306</td>\n",
       "    </tr>\n",
       "  </tbody>\n",
       "</table>\n",
       "</div>"
      ],
      "text/plain": [
       "   educ  age  nonwhite  occ17  presmean   autmean\n",
       "0    19   29         0      2      59.3  0.103448\n",
       "1    16   29         0      7      35.9  0.083306\n",
       "2    18   26         0      3      52.4  0.264063\n",
       "3    12   37         0     12      30.1  0.156604\n",
       "4    12   30         0      7      35.9  0.083306"
      ]
     },
     "execution_count": 2,
     "metadata": {},
     "output_type": "execute_result"
    }
   ],
   "source": [
    "dat = pd.read_csv('../data_clean/gss18cat.raw', sep='\\s+', header=0)\n",
    "dat.autmean = -dat.autmean\n",
    "dat.head()"
   ]
  },
  {
   "cell_type": "code",
   "execution_count": 3,
   "metadata": {},
   "outputs": [],
   "source": [
    "n_i = dat.shape[0]\n",
    "n_j = len(np.unique(dat.occ17))\n",
    "p_i = 4\n",
    "p_j = 2\n",
    "choice = dat.occ17 + 1\n",
    "\n",
    "# ---- Prepare opp, the opportunity set ----\n",
    "opp = np.zeros(shape=(n_i, n_j), dtype=\"bool\")\n",
    "opp[np.arange(n_i), dat.occ17] = True  # people are offered jobs they have!\n",
    "opp[:, 0] = True                     # Unemployment always offered"
   ]
  },
  {
   "cell_type": "code",
   "execution_count": 4,
   "metadata": {},
   "outputs": [],
   "source": [
    "# ---- Prepare ww ----\n",
    "ww = np.empty((n_j, p_j))\n",
    "for i in range(n_j):\n",
    "    ww[i, 0] = np.unique(dat.presmean[dat.occ17 == i])\n",
    "    ww[i, 1] = np.unique(dat.autmean[dat.occ17 == i])"
   ]
  },
  {
   "cell_type": "code",
   "execution_count": 5,
   "metadata": {},
   "outputs": [],
   "source": [
    "# ---- Prepare xx ----\n",
    "one = np.ones(n_i)\n",
    "xx = dat[[\"educ\", \"age\", \"nonwhite\"]]\n",
    "xx = np.column_stack((one, xx))"
   ]
  },
  {
   "cell_type": "markdown",
   "metadata": {},
   "source": [
    "# Simulate based on real data"
   ]
  },
  {
   "cell_type": "code",
   "execution_count": 6,
   "metadata": {},
   "outputs": [],
   "source": [
    "n_employee = 1000\n",
    "n_employer = 4 # Unemployment 1; Professionals, Salaried 3; Craftsmen, Manufacturing 9; Service 14\n",
    "employee_list = [None] * n_employee\n",
    "employer_list = [None] * n_employer"
   ]
  },
  {
   "cell_type": "code",
   "execution_count": 7,
   "metadata": {},
   "outputs": [],
   "source": [
    "my_ww = ww[np.array([0, 2, 8, 13]), :]\n",
    "my_beta = np.array([[0, 0, 0, 0],\n",
    "                    [-9, 0.2, 0.15, 1],\n",
    "                    [-6, 0.2, 0.1, -1],\n",
    "                    [-12, 0.1, 0.3, 1]])\n",
    "for i in range(n_employer):\n",
    "    employer_list[i] = abm.Employer(w=my_ww[i, :], beta=my_beta[i, :])"
   ]
  },
  {
   "cell_type": "code",
   "execution_count": 8,
   "metadata": {},
   "outputs": [],
   "source": [
    "my_xx = xx[np.random.choice(xx.shape[0], size=n_employee, replace=False), :]\n",
    "alpha = np.array([0.07, 1])\n",
    "for i in range(n_employee):\n",
    "    employee_list[i] = abm.Employee(x=my_xx[i, ], alpha=alpha)"
   ]
  },
  {
   "cell_type": "code",
   "execution_count": 9,
   "metadata": {},
   "outputs": [
    {
     "data": {
      "text/plain": [
       "array([[ 0.  , -0.85,  0.7 , -1.4 ],\n",
       "       [ 0.  , -1.45,  0.1 , -1.7 ],\n",
       "       [ 0.  , -1.5 ,  0.2 , -2.4 ],\n",
       "       ..., \n",
       "       [ 0.  , -0.85,  0.3 ,  0.4 ],\n",
       "       [ 0.  , -1.25,  0.3 , -1.6 ],\n",
       "       [ 0.  , -1.85, -2.1 , -2.3 ]])"
      ]
     },
     "execution_count": 9,
     "metadata": {},
     "output_type": "execute_result"
    }
   ],
   "source": [
    "xx.dot(my_beta.T)"
   ]
  },
  {
   "cell_type": "code",
   "execution_count": 10,
   "metadata": {},
   "outputs": [],
   "source": [
    "my_model = abm.Model(n_employer=n_employer, n_employee=n_employee)\n",
    "my_alpha, beta, ww, xx, choice, true_opp, observed_opp = \\\n",
    "    my_model.matching_process(employer_list=employer_list, employee_list=employee_list)\n",
    "wa = np.array([ee.wa for ee in employee_list])"
   ]
  },
  {
   "cell_type": "code",
   "execution_count": 11,
   "metadata": {},
   "outputs": [],
   "source": [
    "np.save(\"ww.npy\", ww)\n",
    "np.save(\"xx.npy\", xx)\n",
    "np.save(\"obs_opp.npy\", observed_opp)\n",
    "np.save(\"true_opp.npy\", true_opp)\n",
    "np.save(\"choice.npy\", choice.astype('float64'))\n",
    "np.save(\"wa.npy\", wa)"
   ]
  },
  {
   "cell_type": "code",
   "execution_count": 12,
   "metadata": {},
   "outputs": [
    {
     "data": {
      "text/plain": [
       "array([ 1.   ,  0.215,  0.232,  0.165])"
      ]
     },
     "execution_count": 12,
     "metadata": {},
     "output_type": "execute_result"
    }
   ],
   "source": [
    "np.mean(observed_opp, axis=0)"
   ]
  },
  {
   "cell_type": "code",
   "execution_count": 13,
   "metadata": {},
   "outputs": [
    {
     "data": {
      "text/plain": [
       "<matplotlib.image.AxesImage at 0x1a17064b00>"
      ]
     },
     "execution_count": 13,
     "metadata": {},
     "output_type": "execute_result"
    },
    {
     "data": {
      "image/png": "[encoded data removed]",
      "text/plain": [
       "<matplotlib.figure.Figure at 0x1a10e82f98>"
      ]
     },
     "metadata": {},
     "output_type": "display_data"
    }
   ],
   "source": [
    "plt.imshow(observed_opp, aspect=\"auto\")"
   ]
  },
  {
   "cell_type": "code",
   "execution_count": 14,
   "metadata": {},
   "outputs": [
    {
     "data": {
      "text/plain": [
       "<matplotlib.image.AxesImage at 0x1a171f94e0>"
      ]
     },
     "execution_count": 14,
     "metadata": {},
     "output_type": "execute_result"
    },
    {
     "data": {
      "image/png": "[encoded data removed]",
      "text/plain": [
       "<matplotlib.figure.Figure at 0x1a1708d2b0>"
      ]
     },
     "metadata": {},
     "output_type": "display_data"
    }
   ],
   "source": [
    "plt.imshow(true_opp, aspect=\"auto\")"
   ]
  },
  {
   "cell_type": "code",
   "execution_count": 15,
   "metadata": {},
   "outputs": [
    {
     "data": {
      "text/plain": [
       "array([ 1.80607255,  4.98486382,  3.17083715,  4.6578177 ])"
      ]
     },
     "execution_count": 15,
     "metadata": {},
     "output_type": "execute_result"
    }
   ],
   "source": [
    "ee = employee_list[4]\n",
    "ee.wa"
   ]
  },
  {
   "cell_type": "code",
   "execution_count": 16,
   "metadata": {},
   "outputs": [
    {
     "data": {
      "text/plain": [
       "array([ 1.,  0.,  0.,  0.])"
      ]
     },
     "execution_count": 16,
     "metadata": {},
     "output_type": "execute_result"
    }
   ],
   "source": [
    "true_opp[4, :]"
   ]
  },
  {
   "cell_type": "code",
   "execution_count": 17,
   "metadata": {},
   "outputs": [
    {
     "data": {
      "text/plain": [
       "0"
      ]
     },
     "execution_count": 17,
     "metadata": {},
     "output_type": "execute_result"
    }
   ],
   "source": [
    "choice[4]"
   ]
  },
  {
   "cell_type": "code",
   "execution_count": 29,
   "metadata": {},
   "outputs": [],
   "source": [
    "class Er:\n",
    "    \n",
    "    def __init__(self, wfunc):\n",
    "        self.wfunc = wfunc\n",
    "        \n",
    "    def offer(self, ee):\n",
    "        return self.wfunc(ee)"
   ]
  },
  {
   "cell_type": "code",
   "execution_count": 30,
   "metadata": {},
   "outputs": [],
   "source": [
    "my_er = Er(wfunc = lambda x: 12 + 0.5 * x)"
   ]
  },
  {
   "cell_type": "code",
   "execution_count": 31,
   "metadata": {},
   "outputs": [
    {
     "data": {
      "text/plain": [
       "14.5"
      ]
     },
     "execution_count": 31,
     "metadata": {},
     "output_type": "execute_result"
    }
   ],
   "source": [
    "my_er.offer(5)"
   ]
  },
  {
   "cell_type": "code",
   "execution_count": null,
   "metadata": {},
   "outputs": [],
   "source": []
  }
 ],
 "metadata": {
  "kernelspec": {
   "display_name": "Python 3",
   "language": "python",
   "name": "python3"
  },
  "language_info": {
   "codemirror_mode": {
    "name": "ipython",
    "version": 3
   },
   "file_extension": ".py",
   "mimetype": "text/x-python",
   "name": "python",
   "nbconvert_exporter": "python",
   "pygments_lexer": "ipython3",
   "version": "3.6.3"
  }
 },
 "nbformat": 4,
 "nbformat_minor": 2
}
