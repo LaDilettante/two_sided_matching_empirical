{
 "cells": [
  {
   "cell_type": "code",
   "execution_count": 1,
   "metadata": {},
   "outputs": [],
   "source": [
    "import numpy as np\n",
    "from scipy import stats\n",
    "import pandas as pd\n",
    "import feather\n",
    "import matplotlib.pyplot as plt\n",
    "%matplotlib inline\n",
    "\n",
    "from numpy.random import RandomState\n",
    "\n",
    "import abm\n",
    "%load_ext autoreload\n",
    "%autoreload 2"
   ]
  },
  {
   "cell_type": "code",
   "execution_count": 2,
   "metadata": {},
   "outputs": [],
   "source": [
    "df_employee = pd.read_csv('../data_clean/labor_employee.csv', header=0)\n",
    "df_employer = pd.read_csv('../data_clean/labor_employer_occ5.csv', header=0)"
   ]
  },
  {
   "cell_type": "code",
   "execution_count": 3,
   "metadata": {},
   "outputs": [],
   "source": [
    "# ---- Prepare xx ----\n",
    "df_xx = (df_employee\n",
    "      [[\"educ\", \"age\", \"nonwhite\"]])\n",
    "df_xx.insert(0, \"intercept\", 1)\n",
    "\n",
    "# ---- Prepare ww ----\n",
    "df_ww = df_employer.loc[:, ['pres', 'aut']]\n",
    "\n",
    "n_i = df_xx.shape[0]\n",
    "p_i = df_xx.shape[1]\n",
    "n_j = df_ww.shape[0]\n",
    "p_j = df_ww.shape[1]"
   ]
  },
  {
   "cell_type": "markdown",
   "metadata": {},
   "source": [
    "# Simulate based on real data"
   ]
  },
  {
   "cell_type": "code",
   "execution_count": 4,
   "metadata": {},
   "outputs": [],
   "source": [
    "# Create employers\n",
    "rng_beta = RandomState(1)\n",
    "# true_beta = rng_beta.multivariate_normal(mean=[-15, 0.5, 0.2,  2],\n",
    "#                                          cov=[[3, 0, 0, 0], \n",
    "#                                               [0, 0.15, 0, 0],\n",
    "#                                               [0, 0, 0.1, 0],\n",
    "#                                               [0, 0, 0, 0.5]],\n",
    "#                                          size=n_j)\n",
    "rng = RandomState(1)\n",
    "true_beta = np.array([[0, 0, 0, 0],\n",
    "                      [-24, 1.3, 0.1, 1],\n",
    "                      [-22, 1, 0.2, 1],\n",
    "                      [-9, 0.75, -0.05, 0],\n",
    "                      [-8, 0.5, 0.02, 0],\n",
    "                      [-6, 0.5, -0.01, 1]])\n",
    "employer_list = [abm.Employer(w=df_ww.loc[j, :], beta=true_beta[j, :], rng=rng) for j in range(n_j)]"
   ]
  },
  {
   "cell_type": "code",
   "execution_count": 5,
   "metadata": {},
   "outputs": [],
   "source": [
    "# Create employees\n",
    "true_alpha = np.array([0.1, 1])\n",
    "employee_list = [abm.Employee(x=df_xx.loc[i, :], alpha=true_alpha, rng=rng) for i in range(n_i)]"
   ]
  },
  {
   "cell_type": "code",
   "execution_count": 6,
   "metadata": {},
   "outputs": [],
   "source": [
    "my_model = abm.Model(employer_list, employee_list)\n",
    "my_alpha, beta, ww, xx, choice, true_opp, obs_opp = \\\n",
    "    my_model.matching_process(employer_list=employer_list, employee_list=employee_list)\n",
    "wa = np.array([ee.wa for ee in employee_list])"
   ]
  },
  {
   "cell_type": "code",
   "execution_count": 7,
   "metadata": {},
   "outputs": [
    {
     "data": {
      "text/html": [
       "<div>\n",
       "<style scoped>\n",
       "    .dataframe tbody tr th:only-of-type {\n",
       "        vertical-align: middle;\n",
       "    }\n",
       "\n",
       "    .dataframe tbody tr th {\n",
       "        vertical-align: top;\n",
       "    }\n",
       "\n",
       "    .dataframe thead th {\n",
       "        text-align: right;\n",
       "    }\n",
       "</style>\n",
       "<table border=\"1\" class=\"dataframe\">\n",
       "  <thead>\n",
       "    <tr style=\"text-align: right;\">\n",
       "      <th></th>\n",
       "      <th>0</th>\n",
       "      <th>1</th>\n",
       "      <th>2</th>\n",
       "      <th>3</th>\n",
       "      <th>4</th>\n",
       "      <th>5</th>\n",
       "    </tr>\n",
       "  </thead>\n",
       "  <tbody>\n",
       "    <tr>\n",
       "      <th>count</th>\n",
       "      <td>2149.0</td>\n",
       "      <td>2149.000000</td>\n",
       "      <td>2149.000000</td>\n",
       "      <td>2149.000000</td>\n",
       "      <td>2149.000000</td>\n",
       "      <td>2149.000000</td>\n",
       "    </tr>\n",
       "    <tr>\n",
       "      <th>mean</th>\n",
       "      <td>1.0</td>\n",
       "      <td>0.160074</td>\n",
       "      <td>0.018613</td>\n",
       "      <td>0.130293</td>\n",
       "      <td>0.124709</td>\n",
       "      <td>0.222894</td>\n",
       "    </tr>\n",
       "    <tr>\n",
       "      <th>std</th>\n",
       "      <td>0.0</td>\n",
       "      <td>0.366760</td>\n",
       "      <td>0.135186</td>\n",
       "      <td>0.336704</td>\n",
       "      <td>0.330466</td>\n",
       "      <td>0.416285</td>\n",
       "    </tr>\n",
       "    <tr>\n",
       "      <th>min</th>\n",
       "      <td>1.0</td>\n",
       "      <td>0.000000</td>\n",
       "      <td>0.000000</td>\n",
       "      <td>0.000000</td>\n",
       "      <td>0.000000</td>\n",
       "      <td>0.000000</td>\n",
       "    </tr>\n",
       "    <tr>\n",
       "      <th>25%</th>\n",
       "      <td>1.0</td>\n",
       "      <td>0.000000</td>\n",
       "      <td>0.000000</td>\n",
       "      <td>0.000000</td>\n",
       "      <td>0.000000</td>\n",
       "      <td>0.000000</td>\n",
       "    </tr>\n",
       "    <tr>\n",
       "      <th>50%</th>\n",
       "      <td>1.0</td>\n",
       "      <td>0.000000</td>\n",
       "      <td>0.000000</td>\n",
       "      <td>0.000000</td>\n",
       "      <td>0.000000</td>\n",
       "      <td>0.000000</td>\n",
       "    </tr>\n",
       "    <tr>\n",
       "      <th>75%</th>\n",
       "      <td>1.0</td>\n",
       "      <td>0.000000</td>\n",
       "      <td>0.000000</td>\n",
       "      <td>0.000000</td>\n",
       "      <td>0.000000</td>\n",
       "      <td>0.000000</td>\n",
       "    </tr>\n",
       "    <tr>\n",
       "      <th>max</th>\n",
       "      <td>1.0</td>\n",
       "      <td>1.000000</td>\n",
       "      <td>1.000000</td>\n",
       "      <td>1.000000</td>\n",
       "      <td>1.000000</td>\n",
       "      <td>1.000000</td>\n",
       "    </tr>\n",
       "  </tbody>\n",
       "</table>\n",
       "</div>"
      ],
      "text/plain": [
       "            0            1            2            3            4            5\n",
       "count  2149.0  2149.000000  2149.000000  2149.000000  2149.000000  2149.000000\n",
       "mean      1.0     0.160074     0.018613     0.130293     0.124709     0.222894\n",
       "std       0.0     0.366760     0.135186     0.336704     0.330466     0.416285\n",
       "min       1.0     0.000000     0.000000     0.000000     0.000000     0.000000\n",
       "25%       1.0     0.000000     0.000000     0.000000     0.000000     0.000000\n",
       "50%       1.0     0.000000     0.000000     0.000000     0.000000     0.000000\n",
       "75%       1.0     0.000000     0.000000     0.000000     0.000000     0.000000\n",
       "max       1.0     1.000000     1.000000     1.000000     1.000000     1.000000"
      ]
     },
     "execution_count": 7,
     "metadata": {},
     "output_type": "execute_result"
    }
   ],
   "source": [
    "pd.DataFrame(obs_opp).describe()"
   ]
  },
  {
   "cell_type": "code",
   "execution_count": 8,
   "metadata": {},
   "outputs": [],
   "source": [
    "feather.write_dataframe(pd.DataFrame(ww), \"ww_nojobs.feather\")\n",
    "feather.write_dataframe(pd.DataFrame(xx), \"xx_nojobs.feather\")\n",
    "feather.write_dataframe(pd.DataFrame(true_opp), \"true_opp_nojobs.feather\")\n",
    "feather.write_dataframe(pd.DataFrame(obs_opp), \"obs_opp_nojobs.feather\")\n",
    "feather.write_dataframe(pd.DataFrame(choice), \"choice_nojobs.feather\")\n",
    "# feather.write_dataframe(pd.DataFrame(wa), \"wa_nojobs.feather\")\n",
    "\n",
    "# Preference parameters\n",
    "feather.write_dataframe(pd.DataFrame(true_alpha), \"true_alpha_nojobs.feather\")\n",
    "feather.write_dataframe(pd.DataFrame(true_beta), \"true_beta_nojobs.feather\")"
   ]
  },
  {
   "cell_type": "code",
   "execution_count": 9,
   "metadata": {},
   "outputs": [
    {
     "data": {
      "text/plain": [
       "<matplotlib.image.AxesImage at 0x7ff2258de7f0>"
      ]
     },
     "execution_count": 9,
     "metadata": {},
     "output_type": "execute_result"
    },
    {
     "data": {
      "image/png": "[encoded data removed]",
      "text/plain": [
       "<matplotlib.figure.Figure at 0x7ff2258f9160>"
      ]
     },
     "metadata": {},
     "output_type": "display_data"
    }
   ],
   "source": [
    "plt.imshow(obs_opp, aspect=\"auto\")"
   ]
  },
  {
   "cell_type": "code",
   "execution_count": 10,
   "metadata": {},
   "outputs": [
    {
     "data": {
      "text/plain": [
       "<matplotlib.image.AxesImage at 0x7ff2246191d0>"
      ]
     },
     "execution_count": 10,
     "metadata": {},
     "output_type": "execute_result"
    },
    {
     "data": {
      "image/png": "[encoded data removed]",
      "text/plain": [
       "<matplotlib.figure.Figure at 0x7ff224623e48>"
      ]
     },
     "metadata": {},
     "output_type": "display_data"
    }
   ],
   "source": [
    "plt.imshow(true_opp, aspect=\"auto\")"
   ]
  },
  {
   "cell_type": "code",
   "execution_count": null,
   "metadata": {},
   "outputs": [],
   "source": []
  }
 ],
 "metadata": {
  "kernelspec": {
   "display_name": "Python 3",
   "language": "python",
   "name": "python3"
  },
  "language_info": {
   "codemirror_mode": {
    "name": "ipython",
    "version": 3
   },
   "file_extension": ".py",
   "mimetype": "text/x-python",
   "name": "python",
   "nbconvert_exporter": "python",
   "pygments_lexer": "ipython3",
   "version": "3.6.4"
  }
 },
 "nbformat": 4,
 "nbformat_minor": 2
}
