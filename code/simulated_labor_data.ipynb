{
 "cells": [
  {
   "cell_type": "code",
   "execution_count": 51,
   "metadata": {},
   "outputs": [
    {
     "name": "stdout",
     "output_type": "stream",
     "text": [
      "The autoreload extension is already loaded. To reload it, use:\n",
      "  %reload_ext autoreload\n"
     ]
    }
   ],
   "source": [
    "import numpy as np\n",
    "import pandas as pd\n",
    "import matplotlib.pyplot as plt\n",
    "%matplotlib inline\n",
    "\n",
    "from numpy.random import RandomState\n",
    "\n",
    "import abm\n",
    "%load_ext autoreload\n",
    "%autoreload 2"
   ]
  },
  {
   "cell_type": "code",
   "execution_count": 52,
   "metadata": {},
   "outputs": [],
   "source": [
    "rng = RandomState(50)"
   ]
  },
  {
   "cell_type": "code",
   "execution_count": 43,
   "metadata": {},
   "outputs": [
    {
     "data": {
      "text/html": [
       "<div>\n",
       "<style scoped>\n",
       "    .dataframe tbody tr th:only-of-type {\n",
       "        vertical-align: middle;\n",
       "    }\n",
       "\n",
       "    .dataframe tbody tr th {\n",
       "        vertical-align: top;\n",
       "    }\n",
       "\n",
       "    .dataframe thead th {\n",
       "        text-align: right;\n",
       "    }\n",
       "</style>\n",
       "<table border=\"1\" class=\"dataframe\">\n",
       "  <thead>\n",
       "    <tr style=\"text-align: right;\">\n",
       "      <th></th>\n",
       "      <th>educ</th>\n",
       "      <th>age</th>\n",
       "      <th>nonwhite</th>\n",
       "      <th>occ17</th>\n",
       "      <th>presmean</th>\n",
       "      <th>autmean</th>\n",
       "    </tr>\n",
       "  </thead>\n",
       "  <tbody>\n",
       "    <tr>\n",
       "      <th>0</th>\n",
       "      <td>19</td>\n",
       "      <td>29</td>\n",
       "      <td>0</td>\n",
       "      <td>2</td>\n",
       "      <td>59.3</td>\n",
       "      <td>0.103448</td>\n",
       "    </tr>\n",
       "    <tr>\n",
       "      <th>1</th>\n",
       "      <td>16</td>\n",
       "      <td>29</td>\n",
       "      <td>0</td>\n",
       "      <td>7</td>\n",
       "      <td>35.9</td>\n",
       "      <td>0.083306</td>\n",
       "    </tr>\n",
       "    <tr>\n",
       "      <th>2</th>\n",
       "      <td>18</td>\n",
       "      <td>26</td>\n",
       "      <td>0</td>\n",
       "      <td>3</td>\n",
       "      <td>52.4</td>\n",
       "      <td>0.264063</td>\n",
       "    </tr>\n",
       "    <tr>\n",
       "      <th>3</th>\n",
       "      <td>12</td>\n",
       "      <td>37</td>\n",
       "      <td>0</td>\n",
       "      <td>12</td>\n",
       "      <td>30.1</td>\n",
       "      <td>0.156604</td>\n",
       "    </tr>\n",
       "    <tr>\n",
       "      <th>4</th>\n",
       "      <td>12</td>\n",
       "      <td>30</td>\n",
       "      <td>0</td>\n",
       "      <td>7</td>\n",
       "      <td>35.9</td>\n",
       "      <td>0.083306</td>\n",
       "    </tr>\n",
       "  </tbody>\n",
       "</table>\n",
       "</div>"
      ],
      "text/plain": [
       "   educ  age  nonwhite  occ17  presmean   autmean\n",
       "0    19   29         0      2      59.3  0.103448\n",
       "1    16   29         0      7      35.9  0.083306\n",
       "2    18   26         0      3      52.4  0.264063\n",
       "3    12   37         0     12      30.1  0.156604\n",
       "4    12   30         0      7      35.9  0.083306"
      ]
     },
     "execution_count": 43,
     "metadata": {},
     "output_type": "execute_result"
    }
   ],
   "source": [
    "dat = pd.read_csv('../data_clean/gss18cat.raw', sep='\\s+', header=0)\n",
    "dat.autmean = -dat.autmean\n",
    "dat.head()"
   ]
  },
  {
   "cell_type": "code",
   "execution_count": 44,
   "metadata": {},
   "outputs": [],
   "source": [
    "n_i = dat.shape[0]\n",
    "n_j = len(np.unique(dat.occ17))\n",
    "p_i = 4\n",
    "p_j = 2\n",
    "choice = dat.occ17 + 1\n",
    "\n",
    "# ---- Prepare opp, the opportunity set ----\n",
    "opp = np.zeros(shape=(n_i, n_j), dtype=\"bool\")\n",
    "opp[np.arange(n_i), dat.occ17] = True  # people are offered jobs they have!\n",
    "opp[:, 0] = True                     # Unemployment always offered"
   ]
  },
  {
   "cell_type": "code",
   "execution_count": 45,
   "metadata": {},
   "outputs": [],
   "source": [
    "# ---- Prepare ww ----\n",
    "ww = np.empty((n_j, p_j))\n",
    "for i in range(n_j):\n",
    "    ww[i, 0] = np.unique(dat.presmean[dat.occ17 == i])\n",
    "    ww[i, 1] = np.unique(dat.autmean[dat.occ17 == i])"
   ]
  },
  {
   "cell_type": "code",
   "execution_count": 47,
   "metadata": {},
   "outputs": [],
   "source": [
    "# ---- Prepare xx ----\n",
    "one = np.ones(n_i)\n",
    "xx = dat[[\"educ\", \"age\", \"nonwhite\"]]\n",
    "xx = np.column_stack((one, xx))"
   ]
  },
  {
   "cell_type": "markdown",
   "metadata": {},
   "source": [
    "# Simulate based on real data"
   ]
  },
  {
   "cell_type": "code",
   "execution_count": null,
   "metadata": {},
   "outputs": [],
   "source": [
    "true_beta = rng.multivariate_normal(mean = [0.5, 5],\n",
    "                                    cov = [[1, 0], [0, 1]])"
   ]
  },
  {
   "cell_type": "code",
   "execution_count": 33,
   "metadata": {},
   "outputs": [
    {
     "data": {
      "text/plain": [
       "array([[ 18.       ,   0.256    ],\n",
       "       [ 63.1      ,   4.       ],\n",
       "       [ 59.3      ,   0.1034483],\n",
       "       [ 52.4      ,   0.2640627],\n",
       "       [ 49.5      ,  12.0039   ],\n",
       "       [ 40.72     ,   0.6923337],\n",
       "       [ 32.8      ,   0.200048 ],\n",
       "       [ 35.9      ,   0.0833062],\n",
       "       [ 40.9      ,   0.0651896],\n",
       "       [ 38.4      ,   0.2981955],\n",
       "       [ 40.8      ,   0.2260912],\n",
       "       [ 31.4      ,   0.0720412],\n",
       "       [ 30.1      ,   0.1566042],\n",
       "       [ 33.5      ,   0.1230907],\n",
       "       [ 18.1      ,   0.1579435],\n",
       "       [ 18.5      ,   0.170275 ],\n",
       "       [ 41.3      ,   9.672359 ],\n",
       "       [ 20.6      ,   0.200048 ]])"
      ]
     },
     "execution_count": 33,
     "metadata": {},
     "output_type": "execute_result"
    }
   ],
   "source": [
    "employer_list = [None] * ww.shape[0]\n",
    "[Employer(w=w, beta=) for w in ww]"
   ]
  },
  {
   "cell_type": "code",
   "execution_count": 8,
   "metadata": {},
   "outputs": [],
   "source": [
    "my_ww = ww[np.array([0, 2, 8, 13]), 0]\n",
    "my_beta = np.array([[0, 0, 0],\n",
    "                    [-9, 0.2, 0.15],\n",
    "                    [-6, 0.2, 0.1],\n",
    "                    [-12, 0.1, 0.3]])\n",
    "for i in range(n_employer):\n",
    "    employer_list[i] = abm.Employer(w=my_ww[i], beta=my_beta[i, :])"
   ]
  },
  {
   "cell_type": "code",
   "execution_count": 9,
   "metadata": {},
   "outputs": [],
   "source": [
    "my_xx = xx[np.random.choice(xx.shape[0], size=n_employee, replace=False), 0:3]\n",
    "alpha = np.array([0.07])\n",
    "for i in range(n_employee):\n",
    "    employee_list[i] = abm.Employee(x=my_xx[i, ], alpha=alpha)"
   ]
  },
  {
   "cell_type": "code",
   "execution_count": 10,
   "metadata": {},
   "outputs": [],
   "source": [
    "my_model = abm.Model(n_employer=n_employer, n_employee=n_employee)\n",
    "my_alpha, beta, ww, xx, choice, true_opp, observed_opp = \\\n",
    "    my_model.matching_process(employer_list=employer_list, employee_list=employee_list)\n",
    "wa = np.array([ee.wa for ee in employee_list])"
   ]
  },
  {
   "cell_type": "code",
   "execution_count": 11,
   "metadata": {},
   "outputs": [],
   "source": [
    "np.save(\"ww_nojobs.npy\", ww)\n",
    "np.save(\"xx_nojobs.npy\", xx)\n",
    "np.save(\"obs_opp_nojobs.npy\", observed_opp)\n",
    "np.save(\"true_opp_nojobs.npy\", true_opp)\n",
    "np.save(\"choice_nojobs.npy\", choice.astype('float64'))\n",
    "np.save(\"wa.npy_nojobs\", wa)"
   ]
  },
  {
   "cell_type": "code",
   "execution_count": 12,
   "metadata": {},
   "outputs": [
    {
     "data": {
      "text/plain": [
       "array([ 1.   ,  0.189,  0.277,  0.15 ])"
      ]
     },
     "execution_count": 12,
     "metadata": {},
     "output_type": "execute_result"
    }
   ],
   "source": [
    "np.mean(observed_opp, axis=0)"
   ]
  },
  {
   "cell_type": "code",
   "execution_count": 13,
   "metadata": {},
   "outputs": [
    {
     "data": {
      "text/plain": [
       "<matplotlib.image.AxesImage at 0x11c635a58>"
      ]
     },
     "execution_count": 13,
     "metadata": {},
     "output_type": "execute_result"
    },
    {
     "data": {
      "image/png": "[encoded data removed]",
      "text/plain": [
       "<matplotlib.figure.Figure at 0x11c5a39b0>"
      ]
     },
     "metadata": {},
     "output_type": "display_data"
    }
   ],
   "source": [
    "plt.imshow(observed_opp, aspect=\"auto\")"
   ]
  },
  {
   "cell_type": "code",
   "execution_count": 14,
   "metadata": {},
   "outputs": [
    {
     "data": {
      "text/plain": [
       "<matplotlib.image.AxesImage at 0x1a1e6a3518>"
      ]
     },
     "execution_count": 14,
     "metadata": {},
     "output_type": "execute_result"
    },
    {
     "data": {
      "image/png": "[encoded data removed]",
      "text/plain": [
       "<matplotlib.figure.Figure at 0x11c5a36a0>"
      ]
     },
     "metadata": {},
     "output_type": "display_data"
    }
   ],
   "source": [
    "plt.imshow(true_opp, aspect=\"auto\")"
   ]
  },
  {
   "cell_type": "code",
   "execution_count": 15,
   "metadata": {},
   "outputs": [
    {
     "data": {
      "text/plain": [
       "array([ 1.55007255,  4.88141552,  3.10564755,  4.534727  ])"
      ]
     },
     "execution_count": 15,
     "metadata": {},
     "output_type": "execute_result"
    }
   ],
   "source": [
    "ee = employee_list[4]\n",
    "ee.wa"
   ]
  },
  {
   "cell_type": "code",
   "execution_count": 16,
   "metadata": {},
   "outputs": [
    {
     "data": {
      "text/plain": [
       "array([ 1.,  0.,  0.,  0.])"
      ]
     },
     "execution_count": 16,
     "metadata": {},
     "output_type": "execute_result"
    }
   ],
   "source": [
    "true_opp[4, :]"
   ]
  },
  {
   "cell_type": "code",
   "execution_count": 17,
   "metadata": {},
   "outputs": [
    {
     "data": {
      "text/plain": [
       "0.0"
      ]
     },
     "execution_count": 17,
     "metadata": {},
     "output_type": "execute_result"
    }
   ],
   "source": [
    "choice[4]"
   ]
  },
  {
   "cell_type": "code",
   "execution_count": 34,
   "metadata": {},
   "outputs": [],
   "source": [
    "%qtconsole"
   ]
  }
 ],
 "metadata": {
  "kernelspec": {
   "display_name": "Python 3",
   "language": "python",
   "name": "python3"
  },
  "language_info": {
   "codemirror_mode": {
    "name": "ipython",
    "version": 3
   },
   "file_extension": ".py",
   "mimetype": "text/x-python",
   "name": "python",
   "nbconvert_exporter": "python",
   "pygments_lexer": "ipython3",
   "version": "3.6.3"
  }
 },
 "nbformat": 4,
 "nbformat_minor": 2
}
